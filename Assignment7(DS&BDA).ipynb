{
 "cells": [
  {
   "cell_type": "markdown",
   "id": "a33b0e95",
   "metadata": {},
   "source": [
    "# Text Analytics\n",
    "#### 1. Extract Sample document and apply following document preprocessing methods : Tokenization, POS Tagging, stop words removal, Stemming and Lemmatization.\n",
    "#### 2. Create representation of document by calculating Term Frequency and Inverse Document Frequency.\n"
   ]
  },
  {
   "cell_type": "code",
   "execution_count": 1,
   "id": "962e1ee8",
   "metadata": {},
   "outputs": [],
   "source": [
    "import nltk"
   ]
  },
  {
   "cell_type": "code",
   "execution_count": 3,
   "id": "69eaca43",
   "metadata": {},
   "outputs": [],
   "source": [
    "text = \"Tokinaztaion is the first step i text analysis. The process of breakomng down a text paragraph into smaller chunks such as words or sentences is called Tokinaztation.\""
   ]
  },
  {
   "cell_type": "code",
   "execution_count": 4,
   "id": "a8261683",
   "metadata": {},
   "outputs": [
    {
     "name": "stdout",
     "output_type": "stream",
     "text": [
      "['Tokinaztaion is the first step i text analysis.', 'The process of breakomng down a text paragraph into smaller chunks such as words or sentences is called Tokinaztation.']\n",
      "['Tokinaztaion', 'is', 'the', 'first', 'step', 'i', 'text', 'analysis', '.', 'The', 'process', 'of', 'breakomng', 'down', 'a', 'text', 'paragraph', 'into', 'smaller', 'chunks', 'such', 'as', 'words', 'or', 'sentences', 'is', 'called', 'Tokinaztation', '.']\n"
     ]
    }
   ],
   "source": [
    "# Sentance Tokinazation\n",
    "from nltk.tokenize import sent_tokenize\n",
    "tokenized_text=sent_tokenize(text)\n",
    "print(tokenized_text)\n",
    "#Word Tokenization\n",
    "from nltk.tokenize import word_tokenize\n",
    "tokenized_word=word_tokenize(text)\n",
    "print(tokenized_word)"
   ]
  },
  {
   "cell_type": "code",
   "execution_count": 7,
   "id": "c3dfcfbe",
   "metadata": {},
   "outputs": [
    {
     "name": "stdout",
     "output_type": "stream",
     "text": [
      "{'am', 'because', 'do', 'being', 'over', 'having', 'ma', 'hadn', 'y', 'ourselves', \"she's\", 'further', 'up', 'each', 'them', 'can', 'itself', 'don', 'doesn', 'before', 'his', \"won't\", 'here', 'll', 'ours', 'our', 'and', 'shan', 'so', 'you', \"hasn't\", 'to', 'should', \"didn't\", 'm', 'only', 'while', 'then', 'been', 'too', 'hasn', 'will', \"shouldn't\", 'wouldn', 'me', \"hadn't\", 'again', 'no', \"isn't\", 'than', 'an', 'down', 'himself', 'as', 'when', 'hers', 'my', \"you're\", 'both', 'under', 'most', 'just', 'out', 'were', \"that'll\", 'your', 'nor', 'but', 'theirs', \"you'll\", \"mustn't\", 'these', 'are', 'until', 'the', \"mightn't\", 'more', 'those', 'through', 'ain', 'who', 'above', 'had', 'yourself', 'why', 'haven', \"couldn't\", 'him', 'i', 'about', 'o', 'which', 'does', 'with', 'themselves', 'any', 'he', 't', \"wasn't\", 'isn', 've', 'they', 'by', 'off', 'few', 'a', 'of', 'from', 'at', \"you'd\", 'or', \"shan't\", 'herself', 'in', \"haven't\", 'there', 'now', 'didn', 'other', 'be', 'that', 'very', 'whom', 'such', 'myself', 'this', 'their', 'some', \"needn't\", 're', 'below', 'did', 'doing', \"aren't\", 'mightn', 'shouldn', 'between', \"weren't\", 'aren', 'on', 'her', 'for', 'have', 'where', 'needn', 'was', 'd', \"don't\", 'couldn', 'wasn', 'after', 'it', 'its', 'against', 'has', \"doesn't\", \"it's\", 'what', 'if', 'once', 'own', 'mustn', 'won', \"should've\", 'is', 'same', 'yours', 'yourselves', 'all', 'she', 'we', 'not', \"wouldn't\", 'into', 'how', 'weren', 'during', 's', \"you've\"}\n",
      "Tokenized Sentence: ['howtoremovestopwordswithnltklibraryinpython']\n",
      "Filtered Sentence: ['howtoremovestopwordswithnltklibraryinpython']\n"
     ]
    }
   ],
   "source": [
    "#Print STOP word of english\n",
    "from nltk.corpus import stopwords\n",
    "import re\n",
    "stop_words=set(stopwords.words(\"english\"))\n",
    "print(stop_words)\n",
    "text= \"How to remove stop words with NLTK library in Python?\" \n",
    "text= re.sub('[^a-zA-Z]', '',text)\n",
    "tokens = word_tokenize(text.lower())\n",
    "filtered_text=[]\n",
    "for w in tokens:\n",
    "    if w not in stop_words:filtered_text.append(w)\n",
    "print(\"Tokenized Sentence:\",tokens)\n",
    "print(\"Filtered Sentence:\",filtered_text)"
   ]
  },
  {
   "cell_type": "code",
   "execution_count": 9,
   "id": "2adedbf9",
   "metadata": {},
   "outputs": [
    {
     "name": "stdout",
     "output_type": "stream",
     "text": [
      "wait\n",
      "wait\n",
      "wait\n",
      "wait\n"
     ]
    }
   ],
   "source": [
    "#Perform Stemming\n",
    "from nltk.stem import PorterStemmer\n",
    "e_words = [\"wait\", \"waiting\", \"waited\", \"waits\"]\n",
    "ps = PorterStemmer()\n",
    "for w in e_words:\n",
    "    rootWord=ps.stem(w)\n",
    "    print(rootWord)"
   ]
  },
  {
   "cell_type": "code",
   "execution_count": 12,
   "id": "254e040a",
   "metadata": {},
   "outputs": [
    {
     "name": "stdout",
     "output_type": "stream",
     "text": [
      "Leema for studies is study \n",
      "Leema for studying is studying \n",
      "Leema for cries is cry \n",
      "Leema for cry is cry \n"
     ]
    }
   ],
   "source": [
    "#Perform Lemmatization\n",
    "from nltk.stem import WordNetLemmatizer\n",
    "wordnet_lemmatizer = WordNetLemmatizer()\n",
    "text = \"studies studying cries cry\" \n",
    "tokenization = nltk.word_tokenize(text)\n",
    "for w in tokenization:\n",
    "    print(\"Leema for {} is {} \".format(w,wordnet_lemmatizer.lemmatize(w)))"
   ]
  },
  {
   "cell_type": "code",
   "execution_count": 14,
   "id": "a7c3f13d",
   "metadata": {},
   "outputs": [
    {
     "name": "stdout",
     "output_type": "stream",
     "text": [
      "[('The', 'DT')]\n",
      "[('pink', 'NN')]\n",
      "[('sweater', 'NN')]\n",
      "[('fit', 'NN')]\n",
      "[('her', 'PRP$')]\n",
      "[('perfectly', 'RB')]\n"
     ]
    }
   ],
   "source": [
    "#Apply POS Tagging to text\n",
    "import nltk\n",
    "from nltk.tokenize import word_tokenize\n",
    "data=\"The pink sweater fit her perfectly\" \n",
    "words=word_tokenize(data)\n",
    "for word in words:\n",
    "    print(nltk.pos_tag([word]))"
   ]
  },
  {
   "cell_type": "code",
   "execution_count": 15,
   "id": "dce8f18f",
   "metadata": {},
   "outputs": [],
   "source": [
    "#Algorithm for Create representation of document by calculating TFID"
   ]
  },
  {
   "cell_type": "code",
   "execution_count": 16,
   "id": "43e9c495",
   "metadata": {},
   "outputs": [],
   "source": [
    "import pandas as pd\n",
    "from sklearn.feature_extraction.text import TfidfVectorizer"
   ]
  },
  {
   "cell_type": "code",
   "execution_count": 18,
   "id": "cfd21b04",
   "metadata": {},
   "outputs": [],
   "source": [
    "documentA = 'Jupiter is the largest Planet' \n",
    "documentB = 'Mars is the fourth'"
   ]
  },
  {
   "cell_type": "code",
   "execution_count": 19,
   "id": "c75b9422",
   "metadata": {},
   "outputs": [],
   "source": [
    "bagOfWordsA = documentA.split(' ')\n",
    "bagOfWordsB = documentB.split(' ')"
   ]
  },
  {
   "cell_type": "code",
   "execution_count": 20,
   "id": "3d8379ed",
   "metadata": {},
   "outputs": [],
   "source": [
    "uniqueWords = set(bagOfWordsA).union(set(bagOfWordsB))"
   ]
  },
  {
   "cell_type": "code",
   "execution_count": 33,
   "id": "301fbb3e",
   "metadata": {},
   "outputs": [
    {
     "name": "stdout",
     "output_type": "stream",
     "text": [
      "{'Mars': 0, 'the': 0, 'fourth': 0, 'is': 0, 'Planet': 0, 'Jupiter': 1, 'largest': 0}\n",
      "{'Mars': 0, 'the': 0, 'fourth': 0, 'is': 1, 'Planet': 0, 'Jupiter': 1, 'largest': 0}\n",
      "{'Mars': 0, 'the': 1, 'fourth': 0, 'is': 1, 'Planet': 0, 'Jupiter': 1, 'largest': 0}\n",
      "{'Mars': 0, 'the': 1, 'fourth': 0, 'is': 1, 'Planet': 0, 'Jupiter': 1, 'largest': 1}\n",
      "{'Mars': 0, 'the': 1, 'fourth': 0, 'is': 1, 'Planet': 1, 'Jupiter': 1, 'largest': 1}\n",
      "////////////////////////////////////////////////////////////////////////////////////////////\n",
      "{'Mars': 1, 'the': 0, 'fourth': 0, 'is': 0, 'Planet': 0, 'Jupiter': 0, 'largest': 0}\n",
      "{'Mars': 1, 'the': 0, 'fourth': 0, 'is': 1, 'Planet': 0, 'Jupiter': 0, 'largest': 0}\n",
      "{'Mars': 1, 'the': 1, 'fourth': 0, 'is': 1, 'Planet': 0, 'Jupiter': 0, 'largest': 0}\n",
      "{'Mars': 1, 'the': 1, 'fourth': 1, 'is': 1, 'Planet': 0, 'Jupiter': 0, 'largest': 0}\n"
     ]
    }
   ],
   "source": [
    "numOfWordsA = dict.fromkeys(uniqueWords, 0)\n",
    "for word in bagOfWordsA:\n",
    "    numOfWordsA[word] += 1\n",
    "    print(numOfWordsA)\n",
    "print('////////////////////////////////////////////////////////////////////////////////////////////')\n",
    "numOfWordsB = dict.fromkeys(uniqueWords, 0)\n",
    "for word in bagOfWordsB:\n",
    "    numOfWordsB[word] += 1\n",
    "    print(numOfWordsB)\n"
   ]
  },
  {
   "cell_type": "code",
   "execution_count": 34,
   "id": "f190d71c",
   "metadata": {},
   "outputs": [],
   "source": [
    "def computeTF(wordDict, bagOfWords):\n",
    "    tfDict = {}\n",
    "    bagOfWordsCount = len(bagOfWords)\n",
    "    for word,count in wordDict.items():\n",
    "        tfDict[word] = count / float(bagOfWordsCount)\n",
    "    return tfDict"
   ]
  },
  {
   "cell_type": "code",
   "execution_count": 35,
   "id": "e1eac4ae",
   "metadata": {},
   "outputs": [
    {
     "name": "stdout",
     "output_type": "stream",
     "text": [
      "{'Mars': 0.0, 'the': 0.2, 'fourth': 0.0, 'is': 0.2, 'Planet': 0.2, 'Jupiter': 0.2, 'largest': 0.2}\n",
      "{'Mars': 0.25, 'the': 0.25, 'fourth': 0.25, 'is': 0.25, 'Planet': 0.0, 'Jupiter': 0.0, 'largest': 0.0}\n"
     ]
    }
   ],
   "source": [
    "tfA = computeTF(numOfWordsA, bagOfWordsA)\n",
    "print(tfA)\n",
    "tfB = computeTF(numOfWordsB, bagOfWordsB)\n",
    "print(tfB)"
   ]
  },
  {
   "cell_type": "code",
   "execution_count": 39,
   "id": "d7bbbe90",
   "metadata": {},
   "outputs": [],
   "source": [
    "def computeIDF(documents):\n",
    "    import math\n",
    "    N = len(documents)\n",
    "    idfs = dict.fromkeys(documents[0].keys(), 0)\n",
    "    for document in documents:\n",
    "        for word, val in document.items():\n",
    "            if val > 0:\n",
    "                idfs[word] += 1\n",
    "    for word, val in idfs.items():\n",
    "        idfs[word] = math.log(N / float(val),10)\n",
    "    return idfs"
   ]
  },
  {
   "cell_type": "code",
   "execution_count": 40,
   "id": "44e09655",
   "metadata": {},
   "outputs": [
    {
     "data": {
      "text/plain": [
       "0.05017166594399686"
      ]
     },
     "execution_count": 40,
     "metadata": {},
     "output_type": "execute_result"
    }
   ],
   "source": [
    "import math\n",
    "1/6*math.log(2/1,10)"
   ]
  },
  {
   "cell_type": "code",
   "execution_count": 41,
   "id": "e6f2250a",
   "metadata": {},
   "outputs": [
    {
     "name": "stdout",
     "output_type": "stream",
     "text": [
      "{'Mars': 0.30102999566398114, 'the': 0.0, 'fourth': 0.30102999566398114, 'is': 0.0, 'Planet': 0.30102999566398114, 'Jupiter': 0.30102999566398114, 'largest': 0.30102999566398114}\n"
     ]
    }
   ],
   "source": [
    "idfs=computeIDF([numOfWordsA, numOfWordsB])\n",
    "print(idfs)"
   ]
  },
  {
   "cell_type": "code",
   "execution_count": 45,
   "id": "7833062b",
   "metadata": {},
   "outputs": [],
   "source": [
    "def computeTFIDF(tfBagOfWords, idfs):\n",
    "    tfidf = {}\n",
    "    for word, val in tfBagOfWords.items():\n",
    "        tfidf[word] = val * idfs[word]\n",
    "    return idfs"
   ]
  },
  {
   "cell_type": "code",
   "execution_count": 46,
   "id": "21003c48",
   "metadata": {},
   "outputs": [
    {
     "name": "stdout",
     "output_type": "stream",
     "text": [
      "{'Mars': 0.30102999566398114, 'the': 0.0, 'fourth': 0.30102999566398114, 'is': 0.0, 'Planet': 0.30102999566398114, 'Jupiter': 0.30102999566398114, 'largest': 0.30102999566398114}\n",
      "{'Mars': 0.30102999566398114, 'the': 0.0, 'fourth': 0.30102999566398114, 'is': 0.0, 'Planet': 0.30102999566398114, 'Jupiter': 0.30102999566398114, 'largest': 0.30102999566398114}\n"
     ]
    }
   ],
   "source": [
    "idfs = computeTFIDF(tfA, idfs)\n",
    "print(idfs)\n",
    "idfs = computeTFIDF(tfB, idfs)\n",
    "print(idfs)"
   ]
  },
  {
   "cell_type": "code",
   "execution_count": 47,
   "id": "5e7bd9a2",
   "metadata": {},
   "outputs": [
    {
     "ename": "NameError",
     "evalue": "name 'tfidfA' is not defined",
     "output_type": "error",
     "traceback": [
      "\u001b[1;31m---------------------------------------------------------------------------\u001b[0m",
      "\u001b[1;31mNameError\u001b[0m                                 Traceback (most recent call last)",
      "\u001b[1;32m<ipython-input-47-e904c336f6a2>\u001b[0m in \u001b[0;36m<module>\u001b[1;34m\u001b[0m\n\u001b[1;32m----> 1\u001b[1;33m \u001b[0mdf\u001b[0m \u001b[1;33m=\u001b[0m \u001b[0mpd\u001b[0m\u001b[1;33m.\u001b[0m\u001b[0mDataFrame\u001b[0m\u001b[1;33m(\u001b[0m\u001b[1;33m[\u001b[0m\u001b[0mtfidfA\u001b[0m\u001b[1;33m,\u001b[0m \u001b[0mtfidfB\u001b[0m\u001b[1;33m]\u001b[0m\u001b[1;33m)\u001b[0m\u001b[1;33m\u001b[0m\u001b[1;33m\u001b[0m\u001b[0m\n\u001b[0m\u001b[0;32m      2\u001b[0m \u001b[0mdf\u001b[0m\u001b[1;33m\u001b[0m\u001b[1;33m\u001b[0m\u001b[0m\n",
      "\u001b[1;31mNameError\u001b[0m: name 'tfidfA' is not defined"
     ]
    }
   ],
   "source": []
  },
  {
   "cell_type": "code",
   "execution_count": null,
   "id": "087971d9",
   "metadata": {},
   "outputs": [],
   "source": []
  }
 ],
 "metadata": {
  "kernelspec": {
   "display_name": "Python 3",
   "language": "python",
   "name": "python3"
  },
  "language_info": {
   "codemirror_mode": {
    "name": "ipython",
    "version": 3
   },
   "file_extension": ".py",
   "mimetype": "text/x-python",
   "name": "python",
   "nbconvert_exporter": "python",
   "pygments_lexer": "ipython3",
   "version": "3.8.8"
  }
 },
 "nbformat": 4,
 "nbformat_minor": 5
}
